{
 "cells": [
  {
   "cell_type": "markdown",
   "id": "4d49f38d",
   "metadata": {},
   "source": [
    "# Uma análise sobre dados de ameaças cibernéticas\n",
    "\n",
    "Este relatório apresenta uma análise exploratória das ameaças cibernéticas globais entre 2015 e 2024, com base no conjunto de dados \"Global Cybersecurity Threats\", bem como testes estatísticos realizados."
   ]
  },
  {
   "cell_type": "markdown",
   "id": "d37b377b",
   "metadata": {},
   "source": [
    "## Importação dos dados\n",
    "Para iniciar a análise, realizei a importação das bibliotecas necessárias e a leitura da base de dados disponibilizada pelo Kaggle."
   ]
  },
  {
   "cell_type": "code",
   "id": "3d874a72-1a2d-498a-b6a8-6417a161594f",
   "metadata": {
    "scrolled": false,
    "ExecuteTime": {
     "end_time": "2025-06-13T17:12:23.834676Z",
     "start_time": "2025-06-13T17:12:23.151076Z"
    }
   },
   "source": [
    "# Importando as bibliotecas\n",
    "import pandas as pd\n",
    "import plotly.express as px\n",
    "import scipy.stats as stats\n",
    "from scipy.stats import f_oneway\n",
    "import numpy as np\n",
    "import warnings\n",
    "warnings.simplefilter(action='ignore', category=FutureWarning)\n",
    "\n",
    "# Carregando os dados\n",
    "df = pd.read_csv('../data/Global_Cybersecurity_Threats_2015-2024.csv')\n",
    "\n",
    "# Visualizando as primeiras linhas\n",
    "df.head()"
   ],
   "outputs": [
    {
     "data": {
      "text/plain": [
       "   Country  Year        Attack Type     Target Industry  \\\n",
       "0    China  2019           Phishing           Education   \n",
       "1    China  2019         Ransomware              Retail   \n",
       "2    India  2017  Man-in-the-Middle                  IT   \n",
       "3       UK  2024         Ransomware  Telecommunications   \n",
       "4  Germany  2018  Man-in-the-Middle                  IT   \n",
       "\n",
       "   Financial Loss (in Million $)  Number of Affected Users Attack Source  \\\n",
       "0                          80.53                    773169  Hacker Group   \n",
       "1                          62.19                    295961  Hacker Group   \n",
       "2                          38.65                    605895  Hacker Group   \n",
       "3                          41.44                    659320  Nation-state   \n",
       "4                          74.41                    810682       Insider   \n",
       "\n",
       "  Security Vulnerability Type Defense Mechanism Used  \\\n",
       "0          Unpatched Software                    VPN   \n",
       "1          Unpatched Software               Firewall   \n",
       "2              Weak Passwords                    VPN   \n",
       "3          Social Engineering     AI-based Detection   \n",
       "4          Social Engineering                    VPN   \n",
       "\n",
       "   Incident Resolution Time (in Hours)  \n",
       "0                                   63  \n",
       "1                                   71  \n",
       "2                                   20  \n",
       "3                                    7  \n",
       "4                                   68  "
      ],
      "text/html": [
       "<div>\n",
       "<style scoped>\n",
       "    .dataframe tbody tr th:only-of-type {\n",
       "        vertical-align: middle;\n",
       "    }\n",
       "\n",
       "    .dataframe tbody tr th {\n",
       "        vertical-align: top;\n",
       "    }\n",
       "\n",
       "    .dataframe thead th {\n",
       "        text-align: right;\n",
       "    }\n",
       "</style>\n",
       "<table border=\"1\" class=\"dataframe\">\n",
       "  <thead>\n",
       "    <tr style=\"text-align: right;\">\n",
       "      <th></th>\n",
       "      <th>Country</th>\n",
       "      <th>Year</th>\n",
       "      <th>Attack Type</th>\n",
       "      <th>Target Industry</th>\n",
       "      <th>Financial Loss (in Million $)</th>\n",
       "      <th>Number of Affected Users</th>\n",
       "      <th>Attack Source</th>\n",
       "      <th>Security Vulnerability Type</th>\n",
       "      <th>Defense Mechanism Used</th>\n",
       "      <th>Incident Resolution Time (in Hours)</th>\n",
       "    </tr>\n",
       "  </thead>\n",
       "  <tbody>\n",
       "    <tr>\n",
       "      <th>0</th>\n",
       "      <td>China</td>\n",
       "      <td>2019</td>\n",
       "      <td>Phishing</td>\n",
       "      <td>Education</td>\n",
       "      <td>80.53</td>\n",
       "      <td>773169</td>\n",
       "      <td>Hacker Group</td>\n",
       "      <td>Unpatched Software</td>\n",
       "      <td>VPN</td>\n",
       "      <td>63</td>\n",
       "    </tr>\n",
       "    <tr>\n",
       "      <th>1</th>\n",
       "      <td>China</td>\n",
       "      <td>2019</td>\n",
       "      <td>Ransomware</td>\n",
       "      <td>Retail</td>\n",
       "      <td>62.19</td>\n",
       "      <td>295961</td>\n",
       "      <td>Hacker Group</td>\n",
       "      <td>Unpatched Software</td>\n",
       "      <td>Firewall</td>\n",
       "      <td>71</td>\n",
       "    </tr>\n",
       "    <tr>\n",
       "      <th>2</th>\n",
       "      <td>India</td>\n",
       "      <td>2017</td>\n",
       "      <td>Man-in-the-Middle</td>\n",
       "      <td>IT</td>\n",
       "      <td>38.65</td>\n",
       "      <td>605895</td>\n",
       "      <td>Hacker Group</td>\n",
       "      <td>Weak Passwords</td>\n",
       "      <td>VPN</td>\n",
       "      <td>20</td>\n",
       "    </tr>\n",
       "    <tr>\n",
       "      <th>3</th>\n",
       "      <td>UK</td>\n",
       "      <td>2024</td>\n",
       "      <td>Ransomware</td>\n",
       "      <td>Telecommunications</td>\n",
       "      <td>41.44</td>\n",
       "      <td>659320</td>\n",
       "      <td>Nation-state</td>\n",
       "      <td>Social Engineering</td>\n",
       "      <td>AI-based Detection</td>\n",
       "      <td>7</td>\n",
       "    </tr>\n",
       "    <tr>\n",
       "      <th>4</th>\n",
       "      <td>Germany</td>\n",
       "      <td>2018</td>\n",
       "      <td>Man-in-the-Middle</td>\n",
       "      <td>IT</td>\n",
       "      <td>74.41</td>\n",
       "      <td>810682</td>\n",
       "      <td>Insider</td>\n",
       "      <td>Social Engineering</td>\n",
       "      <td>VPN</td>\n",
       "      <td>68</td>\n",
       "    </tr>\n",
       "  </tbody>\n",
       "</table>\n",
       "</div>"
      ]
     },
     "execution_count": 10,
     "metadata": {},
     "output_type": "execute_result"
    }
   ],
   "execution_count": 10
  },
  {
   "cell_type": "markdown",
   "id": "191b2cf4",
   "metadata": {},
   "source": [
    "##  Limpeza e exploração inicial\n",
    "\n",
    "Para garantir a qualidade dos dados antes da análise, verifiquei o formato, a presença de valores nulos e duplicados."
   ]
  },
  {
   "cell_type": "code",
   "id": "125a688d-b1c1-4dd4-b8d0-e8417e0aaaba",
   "metadata": {
    "scrolled": false,
    "ExecuteTime": {
     "end_time": "2025-06-13T17:10:37.583323Z",
     "start_time": "2025-06-13T17:10:36.862486Z"
    }
   },
   "source": [
    "#Resumo da estrutura de dados\n",
    "df.info()\n",
    "\n",
    "#Verificando se existe dados duplicados\n",
    "print(\"Dados duplicados: \", df.duplicated().sum())"
   ],
   "outputs": [
    {
     "name": "stdout",
     "output_type": "stream",
     "text": [
      "<class 'pandas.core.frame.DataFrame'>\n",
      "RangeIndex: 3000 entries, 0 to 2999\n",
      "Data columns (total 10 columns):\n",
      " #   Column                               Non-Null Count  Dtype  \n",
      "---  ------                               --------------  -----  \n",
      " 0   Country                              3000 non-null   object \n",
      " 1   Year                                 3000 non-null   int64  \n",
      " 2   Attack Type                          3000 non-null   object \n",
      " 3   Target Industry                      3000 non-null   object \n",
      " 4   Financial Loss (in Million $)        3000 non-null   float64\n",
      " 5   Number of Affected Users             3000 non-null   int64  \n",
      " 6   Attack Source                        3000 non-null   object \n",
      " 7   Security Vulnerability Type          3000 non-null   object \n",
      " 8   Defense Mechanism Used               3000 non-null   object \n",
      " 9   Incident Resolution Time (in Hours)  3000 non-null   int64  \n",
      "dtypes: float64(1), int64(3), object(6)\n",
      "memory usage: 234.5+ KB\n",
      "Dados duplicados:  0\n"
     ]
    }
   ],
   "execution_count": 5
  },
  {
   "cell_type": "markdown",
   "id": "5d0957ca-c1d3-4f6c-b178-c8e9622bd2f5",
   "metadata": {},
   "source": [
    "**Validado que a estrutura está adequada, e sem dados nulos ou duplicados.**\n",
    "\n",
    "A seguir, validei as principais estatísticas para as variáveis numéricas do dataset."
   ]
  },
  {
   "cell_type": "code",
   "id": "fab2cdec-d779-46b0-a3e5-fbb21d8e43b2",
   "metadata": {
    "scrolled": false,
    "ExecuteTime": {
     "end_time": "2025-06-13T17:10:38.115222Z",
     "start_time": "2025-06-13T17:10:37.927764Z"
    }
   },
   "source": [
    "# Estatísticas dos valores númericos\n",
    "df.describe()"
   ],
   "outputs": [
    {
     "data": {
      "text/plain": [
       "              Year  Financial Loss (in Million $)  Number of Affected Users  \\\n",
       "count  3000.000000                    3000.000000               3000.000000   \n",
       "mean   2019.570333                      50.492970             504684.136333   \n",
       "std       2.857932                      28.791415             289944.084972   \n",
       "min    2015.000000                       0.500000                424.000000   \n",
       "25%    2017.000000                      25.757500             255805.250000   \n",
       "50%    2020.000000                      50.795000             504513.000000   \n",
       "75%    2022.000000                      75.630000             758088.500000   \n",
       "max    2024.000000                      99.990000             999635.000000   \n",
       "\n",
       "       Incident Resolution Time (in Hours)  \n",
       "count                          3000.000000  \n",
       "mean                             36.476000  \n",
       "std                              20.570768  \n",
       "min                               1.000000  \n",
       "25%                              19.000000  \n",
       "50%                              37.000000  \n",
       "75%                              55.000000  \n",
       "max                              72.000000  "
      ],
      "text/html": [
       "<div>\n",
       "<style scoped>\n",
       "    .dataframe tbody tr th:only-of-type {\n",
       "        vertical-align: middle;\n",
       "    }\n",
       "\n",
       "    .dataframe tbody tr th {\n",
       "        vertical-align: top;\n",
       "    }\n",
       "\n",
       "    .dataframe thead th {\n",
       "        text-align: right;\n",
       "    }\n",
       "</style>\n",
       "<table border=\"1\" class=\"dataframe\">\n",
       "  <thead>\n",
       "    <tr style=\"text-align: right;\">\n",
       "      <th></th>\n",
       "      <th>Year</th>\n",
       "      <th>Financial Loss (in Million $)</th>\n",
       "      <th>Number of Affected Users</th>\n",
       "      <th>Incident Resolution Time (in Hours)</th>\n",
       "    </tr>\n",
       "  </thead>\n",
       "  <tbody>\n",
       "    <tr>\n",
       "      <th>count</th>\n",
       "      <td>3000.000000</td>\n",
       "      <td>3000.000000</td>\n",
       "      <td>3000.000000</td>\n",
       "      <td>3000.000000</td>\n",
       "    </tr>\n",
       "    <tr>\n",
       "      <th>mean</th>\n",
       "      <td>2019.570333</td>\n",
       "      <td>50.492970</td>\n",
       "      <td>504684.136333</td>\n",
       "      <td>36.476000</td>\n",
       "    </tr>\n",
       "    <tr>\n",
       "      <th>std</th>\n",
       "      <td>2.857932</td>\n",
       "      <td>28.791415</td>\n",
       "      <td>289944.084972</td>\n",
       "      <td>20.570768</td>\n",
       "    </tr>\n",
       "    <tr>\n",
       "      <th>min</th>\n",
       "      <td>2015.000000</td>\n",
       "      <td>0.500000</td>\n",
       "      <td>424.000000</td>\n",
       "      <td>1.000000</td>\n",
       "    </tr>\n",
       "    <tr>\n",
       "      <th>25%</th>\n",
       "      <td>2017.000000</td>\n",
       "      <td>25.757500</td>\n",
       "      <td>255805.250000</td>\n",
       "      <td>19.000000</td>\n",
       "    </tr>\n",
       "    <tr>\n",
       "      <th>50%</th>\n",
       "      <td>2020.000000</td>\n",
       "      <td>50.795000</td>\n",
       "      <td>504513.000000</td>\n",
       "      <td>37.000000</td>\n",
       "    </tr>\n",
       "    <tr>\n",
       "      <th>75%</th>\n",
       "      <td>2022.000000</td>\n",
       "      <td>75.630000</td>\n",
       "      <td>758088.500000</td>\n",
       "      <td>55.000000</td>\n",
       "    </tr>\n",
       "    <tr>\n",
       "      <th>max</th>\n",
       "      <td>2024.000000</td>\n",
       "      <td>99.990000</td>\n",
       "      <td>999635.000000</td>\n",
       "      <td>72.000000</td>\n",
       "    </tr>\n",
       "  </tbody>\n",
       "</table>\n",
       "</div>"
      ]
     },
     "execution_count": 6,
     "metadata": {},
     "output_type": "execute_result"
    }
   ],
   "execution_count": 6
  },
  {
   "cell_type": "markdown",
   "id": "e067992a-cc4d-411c-827e-1033e684a71b",
   "metadata": {},
   "source": [
    "Com base nessas estatísticas, já podemos obter alguns insights:\n",
    "\n",
    "* A mediana do ano dos incidentes é 2020, com 50% dos ataques ocorrendo entre 2017 e 2022, indicando aumento da frequência ou maior registro de ataques nos últimos anos.\n",
    "* Os prejuízos financeiros são elevados e variam bastante, com média em torno de 50 milhões de dólares.\n",
    "* A maioria dos incidentes afeta aproximadamente meio milhão de usuários, o que representa uma escala significativa.\n",
    "* O tempo médio para resolução dos incidentes é relativamente curto (cerca de 36 horas), porém alguns casos levam até 3 dias para serem resolvidos, podendo causar impactos prolongados, especialmente para setores críticos."
   ]
  },
  {
   "cell_type": "markdown",
   "id": "3c40741e",
   "metadata": {},
   "source": [
    "## Análise de Correlação e Testes Estatísticos\n",
    "\n",
    "\n",
    "### **Correlação entre variáveis númericas**  \n",
    "\n",
    "Utilizei gráficos de dispersão para identificar possíveis padrões ou relações entre as variáveis."
   ]
  },
  {
   "cell_type": "code",
   "id": "e8655cc1",
   "metadata": {
    "scrolled": false,
    "ExecuteTime": {
     "end_time": "2025-06-13T17:10:46.284067Z",
     "start_time": "2025-06-13T17:10:38.367092Z"
    }
   },
   "source": [
    "#Identificando se existe correlação entre as variáveis numéricas\n",
    "fig = px.scatter_matrix(df.select_dtypes(include=['number']))\n",
    "fig.update_layout(\n",
    "    width=800, height=800, font_size=8 \n",
    ")\n",
    "fig.show()"
   ],
   "outputs": [
    {
     "data": {
      "application/vnd.plotly.v1+json": {
       "data": [
        {
         "dimensions": [
          {
           "axis": {
            "matches": true
           },
           "label": "Year",
           "values": {
            "dtype": "i2",
            "bdata": "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"
           }
          },
          {
           "axis": {
            "matches": true
           },
           "label": "Financial Loss (in Million $)",
           "values": {
            "dtype": "f8",
            "bdata": "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"
           }
          },
          {
           "axis": {
            "matches": true
           },
           "label": "Number of Affected Users",
           "values": {
            "dtype": "i4",
            "bdata": "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"
           }
          },
          {
           "axis": {
            "matches": true
           },
           "label": "Incident Resolution Time (in Hours)",
           "values": {
            "dtype": "i1",
            "bdata": "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"
           }
          }
         ],
         "hovertemplate": "%{xaxis.title.text}=%{x}<br>%{yaxis.title.text}=%{y}<extra></extra>",
         "legendgroup": "",
         "marker": {
          "color": "#636efa",
          "symbol": "circle"
         },
         "name": "",
         "showlegend": false,
         "type": "splom"
        }
       ],
       "layout": {
        "template": {
         "data": {
          "histogram2dcontour": [
           {
            "type": "histogram2dcontour",
            "colorbar": {
             "outlinewidth": 0,
             "ticks": ""
            },
            "colorscale": [
             [
              0.0,
              "#0d0887"
             ],
             [
              0.1111111111111111,
              "#46039f"
             ],
             [
              0.2222222222222222,
              "#7201a8"
             ],
             [
              0.3333333333333333,
              "#9c179e"
             ],
             [
              0.4444444444444444,
              "#bd3786"
             ],
             [
              0.5555555555555556,
              "#d8576b"
             ],
             [
              0.6666666666666666,
              "#ed7953"
             ],
             [
              0.7777777777777778,
              "#fb9f3a"
             ],
             [
              0.8888888888888888,
              "#fdca26"
             ],
             [
              1.0,
              "#f0f921"
             ]
            ]
           }
          ],
          "choropleth": [
           {
            "type": "choropleth",
            "colorbar": {
             "outlinewidth": 0,
             "ticks": ""
            }
           }
          ],
          "histogram2d": [
           {
            "type": "histogram2d",
            "colorbar": {
             "outlinewidth": 0,
             "ticks": ""
            },
            "colorscale": [
             [
              0.0,
              "#0d0887"
             ],
             [
              0.1111111111111111,
              "#46039f"
             ],
             [
              0.2222222222222222,
              "#7201a8"
             ],
             [
              0.3333333333333333,
              "#9c179e"
             ],
             [
              0.4444444444444444,
              "#bd3786"
             ],
             [
              0.5555555555555556,
              "#d8576b"
             ],
             [
              0.6666666666666666,
              "#ed7953"
             ],
             [
              0.7777777777777778,
              "#fb9f3a"
             ],
             [
              0.8888888888888888,
              "#fdca26"
             ],
             [
              1.0,
              "#f0f921"
             ]
            ]
           }
          ],
          "heatmap": [
           {
            "type": "heatmap",
            "colorbar": {
             "outlinewidth": 0,
             "ticks": ""
            },
            "colorscale": [
             [
              0.0,
              "#0d0887"
             ],
             [
              0.1111111111111111,
              "#46039f"
             ],
             [
              0.2222222222222222,
              "#7201a8"
             ],
             [
              0.3333333333333333,
              "#9c179e"
             ],
             [
              0.4444444444444444,
              "#bd3786"
             ],
             [
              0.5555555555555556,
              "#d8576b"
             ],
             [
              0.6666666666666666,
              "#ed7953"
             ],
             [
              0.7777777777777778,
              "#fb9f3a"
             ],
             [
              0.8888888888888888,
              "#fdca26"
             ],
             [
              1.0,
              "#f0f921"
             ]
            ]
           }
          ],
          "contourcarpet": [
           {
            "type": "contourcarpet",
            "colorbar": {
             "outlinewidth": 0,
             "ticks": ""
            }
           }
          ],
          "contour": [
           {
            "type": "contour",
            "colorbar": {
             "outlinewidth": 0,
             "ticks": ""
            },
            "colorscale": [
             [
              0.0,
              "#0d0887"
             ],
             [
              0.1111111111111111,
              "#46039f"
             ],
             [
              0.2222222222222222,
              "#7201a8"
             ],
             [
              0.3333333333333333,
              "#9c179e"
             ],
             [
              0.4444444444444444,
              "#bd3786"
             ],
             [
              0.5555555555555556,
              "#d8576b"
             ],
             [
              0.6666666666666666,
              "#ed7953"
             ],
             [
              0.7777777777777778,
              "#fb9f3a"
             ],
             [
              0.8888888888888888,
              "#fdca26"
             ],
             [
              1.0,
              "#f0f921"
             ]
            ]
           }
          ],
          "surface": [
           {
            "type": "surface",
            "colorbar": {
             "outlinewidth": 0,
             "ticks": ""
            },
            "colorscale": [
             [
              0.0,
              "#0d0887"
             ],
             [
              0.1111111111111111,
              "#46039f"
             ],
             [
              0.2222222222222222,
              "#7201a8"
             ],
             [
              0.3333333333333333,
              "#9c179e"
             ],
             [
              0.4444444444444444,
              "#bd3786"
             ],
             [
              0.5555555555555556,
              "#d8576b"
             ],
             [
              0.6666666666666666,
              "#ed7953"
             ],
             [
              0.7777777777777778,
              "#fb9f3a"
             ],
             [
              0.8888888888888888,
              "#fdca26"
             ],
             [
              1.0,
              "#f0f921"
             ]
            ]
           }
          ],
          "mesh3d": [
           {
            "type": "mesh3d",
            "colorbar": {
             "outlinewidth": 0,
             "ticks": ""
            }
           }
          ],
          "scatter": [
           {
            "marker": {
             "line": {
              "color": "#283442"
             }
            },
            "type": "scatter"
           }
          ],
          "parcoords": [
           {
            "type": "parcoords",
            "line": {
             "colorbar": {
              "outlinewidth": 0,
              "ticks": ""
             }
            }
           }
          ],
          "scatterpolargl": [
           {
            "type": "scatterpolargl",
            "marker": {
             "colorbar": {
              "outlinewidth": 0,
              "ticks": ""
             }
            }
           }
          ],
          "bar": [
           {
            "error_x": {
             "color": "#f2f5fa"
            },
            "error_y": {
             "color": "#f2f5fa"
            },
            "marker": {
             "line": {
              "color": "rgb(17,17,17)",
              "width": 0.5
             },
             "pattern": {
              "fillmode": "overlay",
              "size": 10,
              "solidity": 0.2
             }
            },
            "type": "bar"
           }
          ],
          "scattergeo": [
           {
            "type": "scattergeo",
            "marker": {
             "colorbar": {
              "outlinewidth": 0,
              "ticks": ""
             }
            }
           }
          ],
          "scatterpolar": [
           {
            "type": "scatterpolar",
            "marker": {
             "colorbar": {
              "outlinewidth": 0,
              "ticks": ""
             }
            }
           }
          ],
          "histogram": [
           {
            "marker": {
             "pattern": {
              "fillmode": "overlay",
              "size": 10,
              "solidity": 0.2
             }
            },
            "type": "histogram"
           }
          ],
          "scattergl": [
           {
            "marker": {
             "line": {
              "color": "#283442"
             }
            },
            "type": "scattergl"
           }
          ],
          "scatter3d": [
           {
            "type": "scatter3d",
            "line": {
             "colorbar": {
              "outlinewidth": 0,
              "ticks": ""
             }
            },
            "marker": {
             "colorbar": {
              "outlinewidth": 0,
              "ticks": ""
             }
            }
           }
          ],
          "scattermap": [
           {
            "type": "scattermap",
            "marker": {
             "colorbar": {
              "outlinewidth": 0,
              "ticks": ""
             }
            }
           }
          ],
          "scattermapbox": [
           {
            "type": "scattermapbox",
            "marker": {
             "colorbar": {
              "outlinewidth": 0,
              "ticks": ""
             }
            }
           }
          ],
          "scatterternary": [
           {
            "type": "scatterternary",
            "marker": {
             "colorbar": {
              "outlinewidth": 0,
              "ticks": ""
             }
            }
           }
          ],
          "scattercarpet": [
           {
            "type": "scattercarpet",
            "marker": {
             "colorbar": {
              "outlinewidth": 0,
              "ticks": ""
             }
            }
           }
          ],
          "carpet": [
           {
            "aaxis": {
             "endlinecolor": "#A2B1C6",
             "gridcolor": "#506784",
             "linecolor": "#506784",
             "minorgridcolor": "#506784",
             "startlinecolor": "#A2B1C6"
            },
            "baxis": {
             "endlinecolor": "#A2B1C6",
             "gridcolor": "#506784",
             "linecolor": "#506784",
             "minorgridcolor": "#506784",
             "startlinecolor": "#A2B1C6"
            },
            "type": "carpet"
           }
          ],
          "table": [
           {
            "cells": {
             "fill": {
              "color": "#506784"
             },
             "line": {
              "color": "rgb(17,17,17)"
             }
            },
            "header": {
             "fill": {
              "color": "#2a3f5f"
             },
             "line": {
              "color": "rgb(17,17,17)"
             }
            },
            "type": "table"
           }
          ],
          "barpolar": [
           {
            "marker": {
             "line": {
              "color": "rgb(17,17,17)",
              "width": 0.5
             },
             "pattern": {
              "fillmode": "overlay",
              "size": 10,
              "solidity": 0.2
             }
            },
            "type": "barpolar"
           }
          ],
          "pie": [
           {
            "automargin": true,
            "type": "pie"
           }
          ]
         },
         "layout": {
          "autotypenumbers": "strict",
          "colorway": [
           "#636efa",
           "#EF553B",
           "#00cc96",
           "#ab63fa",
           "#FFA15A",
           "#19d3f3",
           "#FF6692",
           "#B6E880",
           "#FF97FF",
           "#FECB52"
          ],
          "font": {
           "color": "#f2f5fa"
          },
          "hovermode": "closest",
          "hoverlabel": {
           "align": "left"
          },
          "paper_bgcolor": "rgb(17,17,17)",
          "plot_bgcolor": "rgb(17,17,17)",
          "polar": {
           "bgcolor": "rgb(17,17,17)",
           "angularaxis": {
            "gridcolor": "#506784",
            "linecolor": "#506784",
            "ticks": ""
           },
           "radialaxis": {
            "gridcolor": "#506784",
            "linecolor": "#506784",
            "ticks": ""
           }
          },
          "ternary": {
           "bgcolor": "rgb(17,17,17)",
           "aaxis": {
            "gridcolor": "#506784",
            "linecolor": "#506784",
            "ticks": ""
           },
           "baxis": {
            "gridcolor": "#506784",
            "linecolor": "#506784",
            "ticks": ""
           },
           "caxis": {
            "gridcolor": "#506784",
            "linecolor": "#506784",
            "ticks": ""
           }
          },
          "coloraxis": {
           "colorbar": {
            "outlinewidth": 0,
            "ticks": ""
           }
          },
          "colorscale": {
           "sequential": [
            [
             0.0,
             "#0d0887"
            ],
            [
             0.1111111111111111,
             "#46039f"
            ],
            [
             0.2222222222222222,
             "#7201a8"
            ],
            [
             0.3333333333333333,
             "#9c179e"
            ],
            [
             0.4444444444444444,
             "#bd3786"
            ],
            [
             0.5555555555555556,
             "#d8576b"
            ],
            [
             0.6666666666666666,
             "#ed7953"
            ],
            [
             0.7777777777777778,
             "#fb9f3a"
            ],
            [
             0.8888888888888888,
             "#fdca26"
            ],
            [
             1.0,
             "#f0f921"
            ]
           ],
           "sequentialminus": [
            [
             0.0,
             "#0d0887"
            ],
            [
             0.1111111111111111,
             "#46039f"
            ],
            [
             0.2222222222222222,
             "#7201a8"
            ],
            [
             0.3333333333333333,
             "#9c179e"
            ],
            [
             0.4444444444444444,
             "#bd3786"
            ],
            [
             0.5555555555555556,
             "#d8576b"
            ],
            [
             0.6666666666666666,
             "#ed7953"
            ],
            [
             0.7777777777777778,
             "#fb9f3a"
            ],
            [
             0.8888888888888888,
             "#fdca26"
            ],
            [
             1.0,
             "#f0f921"
            ]
           ],
           "diverging": [
            [
             0,
             "#8e0152"
            ],
            [
             0.1,
             "#c51b7d"
            ],
            [
             0.2,
             "#de77ae"
            ],
            [
             0.3,
             "#f1b6da"
            ],
            [
             0.4,
             "#fde0ef"
            ],
            [
             0.5,
             "#f7f7f7"
            ],
            [
             0.6,
             "#e6f5d0"
            ],
            [
             0.7,
             "#b8e186"
            ],
            [
             0.8,
             "#7fbc41"
            ],
            [
             0.9,
             "#4d9221"
            ],
            [
             1,
             "#276419"
            ]
           ]
          },
          "xaxis": {
           "gridcolor": "#283442",
           "linecolor": "#506784",
           "ticks": "",
           "title": {
            "standoff": 15
           },
           "zerolinecolor": "#283442",
           "automargin": true,
           "zerolinewidth": 2
          },
          "yaxis": {
           "gridcolor": "#283442",
           "linecolor": "#506784",
           "ticks": "",
           "title": {
            "standoff": 15
           },
           "zerolinecolor": "#283442",
           "automargin": true,
           "zerolinewidth": 2
          },
          "scene": {
           "xaxis": {
            "backgroundcolor": "rgb(17,17,17)",
            "gridcolor": "#506784",
            "linecolor": "#506784",
            "showbackground": true,
            "ticks": "",
            "zerolinecolor": "#C8D4E3",
            "gridwidth": 2
           },
           "yaxis": {
            "backgroundcolor": "rgb(17,17,17)",
            "gridcolor": "#506784",
            "linecolor": "#506784",
            "showbackground": true,
            "ticks": "",
            "zerolinecolor": "#C8D4E3",
            "gridwidth": 2
           },
           "zaxis": {
            "backgroundcolor": "rgb(17,17,17)",
            "gridcolor": "#506784",
            "linecolor": "#506784",
            "showbackground": true,
            "ticks": "",
            "zerolinecolor": "#C8D4E3",
            "gridwidth": 2
           }
          },
          "shapedefaults": {
           "line": {
            "color": "#f2f5fa"
           }
          },
          "annotationdefaults": {
           "arrowcolor": "#f2f5fa",
           "arrowhead": 0,
           "arrowwidth": 1
          },
          "geo": {
           "bgcolor": "rgb(17,17,17)",
           "landcolor": "rgb(17,17,17)",
           "subunitcolor": "#506784",
           "showland": true,
           "showlakes": true,
           "lakecolor": "rgb(17,17,17)"
          },
          "title": {
           "x": 0.05
          },
          "updatemenudefaults": {
           "bgcolor": "#506784",
           "borderwidth": 0
          },
          "sliderdefaults": {
           "bgcolor": "#C8D4E3",
           "borderwidth": 1,
           "bordercolor": "rgb(17,17,17)",
           "tickwidth": 0
          },
          "mapbox": {
           "style": "dark"
          }
         }
        },
        "legend": {
         "tracegroupgap": 0
        },
        "margin": {
         "t": 60
        },
        "dragmode": "select",
        "font": {
         "size": 8
        },
        "width": 800,
        "height": 800
       },
       "config": {
        "plotlyServerURL": "https://plot.ly"
       }
      }
     },
     "metadata": {},
     "output_type": "display_data"
    }
   ],
   "execution_count": 7
  },
  {
   "cell_type": "markdown",
   "id": "68f4f0d7",
   "metadata": {},
   "source": [
    "Todos os gráficos de dispersão estão com os pontos muito espalhados e sem formar nenhum padrão claro (reta, curva, aglomeração etc.). Isso indica que **não há relação aparente (linear ou não-linear)** entre os pares de variáveis.\n",
    "\n",
    "Para aprofundar a análise, calculei a matriz de correlação utilizando a função corr(), que, por padrão, aplica o método de Pearson. Esse método mede a força e a direção da relação linear entre duas variáveis, gerando uma pontuação que varia de -1 a +1:\n",
    "\n",
    "* 0 indica ausência de correlação,\n",
    "* +1 representa uma correlação positiva perfeita,\n",
    "* -1 representa uma correlação negativa perfeita.\n",
    "\n"
   ]
  },
  {
   "cell_type": "code",
   "id": "830a4014-f9e2-4275-818a-c43a7fe1991d",
   "metadata": {
    "scrolled": false,
    "ExecuteTime": {
     "end_time": "2025-06-13T17:17:14.271129Z",
     "start_time": "2025-06-13T17:17:08.838834Z"
    }
   },
   "source": [
    "#Analisando mais a fundo a correlação linear entre os campos numéricos\n",
    "correlacao = df.select_dtypes(include=['number']).corr()\n",
    "fig = px.imshow(correlacao,\n",
    "                text_auto=\".5f\",\n",
    "                aspect=\"auto\",\n",
    "                title='Correlação de Pearson entre variáveis quantitativas',\n",
    "                color_continuous_scale='RdBu_r')\n",
    "\n",
    "fig.update_layout(\n",
    "    title_x=0.5\n",
    ")\n",
    "\n",
    "fig.show()"
   ],
   "outputs": [
    {
     "data": {
      "application/vnd.plotly.v1+json": {
       "data": [
        {
         "coloraxis": "coloraxis",
         "name": "0",
         "texttemplate": "%{z:.5f}",
         "x": [
          "Year",
          "Financial Loss (in Million $)",
          "Number of Affected Users",
          "Incident Resolution Time (in Hours)"
         ],
         "y": [
          "Year",
          "Financial Loss (in Million $)",
          "Number of Affected Users",
          "Incident Resolution Time (in Hours)"
         ],
         "z": {
          "dtype": "f8",
          "bdata": "AAAAAAAA8D86PEGBv6uFPxBguFvr+mI/u7ESPVZodL86PEGBv6uFPwAAAAAAAPA/HARNthxGXT+IGl3LJPOJvxBguFvr+mI/HARNthxGXT8AAAAAAADwPyZRUpRwI3g/u7ESPVZodL+IGl3LJPOJvyZRUpRwI3g/AAAAAAAA8D8=",
          "shape": "4, 4"
         },
         "type": "heatmap",
         "xaxis": "x",
         "yaxis": "y",
         "hovertemplate": "x: %{x}<br>y: %{y}<br>color: %{z}<extra></extra>"
        }
       ],
       "layout": {
        "template": {
         "data": {
          "histogram2dcontour": [
           {
            "type": "histogram2dcontour",
            "colorbar": {
             "outlinewidth": 0,
             "ticks": ""
            },
            "colorscale": [
             [
              0.0,
              "#0d0887"
             ],
             [
              0.1111111111111111,
              "#46039f"
             ],
             [
              0.2222222222222222,
              "#7201a8"
             ],
             [
              0.3333333333333333,
              "#9c179e"
             ],
             [
              0.4444444444444444,
              "#bd3786"
             ],
             [
              0.5555555555555556,
              "#d8576b"
             ],
             [
              0.6666666666666666,
              "#ed7953"
             ],
             [
              0.7777777777777778,
              "#fb9f3a"
             ],
             [
              0.8888888888888888,
              "#fdca26"
             ],
             [
              1.0,
              "#f0f921"
             ]
            ]
           }
          ],
          "choropleth": [
           {
            "type": "choropleth",
            "colorbar": {
             "outlinewidth": 0,
             "ticks": ""
            }
           }
          ],
          "histogram2d": [
           {
            "type": "histogram2d",
            "colorbar": {
             "outlinewidth": 0,
             "ticks": ""
            },
            "colorscale": [
             [
              0.0,
              "#0d0887"
             ],
             [
              0.1111111111111111,
              "#46039f"
             ],
             [
              0.2222222222222222,
              "#7201a8"
             ],
             [
              0.3333333333333333,
              "#9c179e"
             ],
             [
              0.4444444444444444,
              "#bd3786"
             ],
             [
              0.5555555555555556,
              "#d8576b"
             ],
             [
              0.6666666666666666,
              "#ed7953"
             ],
             [
              0.7777777777777778,
              "#fb9f3a"
             ],
             [
              0.8888888888888888,
              "#fdca26"
             ],
             [
              1.0,
              "#f0f921"
             ]
            ]
           }
          ],
          "heatmap": [
           {
            "type": "heatmap",
            "colorbar": {
             "outlinewidth": 0,
             "ticks": ""
            },
            "colorscale": [
             [
              0.0,
              "#0d0887"
             ],
             [
              0.1111111111111111,
              "#46039f"
             ],
             [
              0.2222222222222222,
              "#7201a8"
             ],
             [
              0.3333333333333333,
              "#9c179e"
             ],
             [
              0.4444444444444444,
              "#bd3786"
             ],
             [
              0.5555555555555556,
              "#d8576b"
             ],
             [
              0.6666666666666666,
              "#ed7953"
             ],
             [
              0.7777777777777778,
              "#fb9f3a"
             ],
             [
              0.8888888888888888,
              "#fdca26"
             ],
             [
              1.0,
              "#f0f921"
             ]
            ]
           }
          ],
          "contourcarpet": [
           {
            "type": "contourcarpet",
            "colorbar": {
             "outlinewidth": 0,
             "ticks": ""
            }
           }
          ],
          "contour": [
           {
            "type": "contour",
            "colorbar": {
             "outlinewidth": 0,
             "ticks": ""
            },
            "colorscale": [
             [
              0.0,
              "#0d0887"
             ],
             [
              0.1111111111111111,
              "#46039f"
             ],
             [
              0.2222222222222222,
              "#7201a8"
             ],
             [
              0.3333333333333333,
              "#9c179e"
             ],
             [
              0.4444444444444444,
              "#bd3786"
             ],
             [
              0.5555555555555556,
              "#d8576b"
             ],
             [
              0.6666666666666666,
              "#ed7953"
             ],
             [
              0.7777777777777778,
              "#fb9f3a"
             ],
             [
              0.8888888888888888,
              "#fdca26"
             ],
             [
              1.0,
              "#f0f921"
             ]
            ]
           }
          ],
          "surface": [
           {
            "type": "surface",
            "colorbar": {
             "outlinewidth": 0,
             "ticks": ""
            },
            "colorscale": [
             [
              0.0,
              "#0d0887"
             ],
             [
              0.1111111111111111,
              "#46039f"
             ],
             [
              0.2222222222222222,
              "#7201a8"
             ],
             [
              0.3333333333333333,
              "#9c179e"
             ],
             [
              0.4444444444444444,
              "#bd3786"
             ],
             [
              0.5555555555555556,
              "#d8576b"
             ],
             [
              0.6666666666666666,
              "#ed7953"
             ],
             [
              0.7777777777777778,
              "#fb9f3a"
             ],
             [
              0.8888888888888888,
              "#fdca26"
             ],
             [
              1.0,
              "#f0f921"
             ]
            ]
           }
          ],
          "mesh3d": [
           {
            "type": "mesh3d",
            "colorbar": {
             "outlinewidth": 0,
             "ticks": ""
            }
           }
          ],
          "scatter": [
           {
            "marker": {
             "line": {
              "color": "#283442"
             }
            },
            "type": "scatter"
           }
          ],
          "parcoords": [
           {
            "type": "parcoords",
            "line": {
             "colorbar": {
              "outlinewidth": 0,
              "ticks": ""
             }
            }
           }
          ],
          "scatterpolargl": [
           {
            "type": "scatterpolargl",
            "marker": {
             "colorbar": {
              "outlinewidth": 0,
              "ticks": ""
             }
            }
           }
          ],
          "bar": [
           {
            "error_x": {
             "color": "#f2f5fa"
            },
            "error_y": {
             "color": "#f2f5fa"
            },
            "marker": {
             "line": {
              "color": "rgb(17,17,17)",
              "width": 0.5
             },
             "pattern": {
              "fillmode": "overlay",
              "size": 10,
              "solidity": 0.2
             }
            },
            "type": "bar"
           }
          ],
          "scattergeo": [
           {
            "type": "scattergeo",
            "marker": {
             "colorbar": {
              "outlinewidth": 0,
              "ticks": ""
             }
            }
           }
          ],
          "scatterpolar": [
           {
            "type": "scatterpolar",
            "marker": {
             "colorbar": {
              "outlinewidth": 0,
              "ticks": ""
             }
            }
           }
          ],
          "histogram": [
           {
            "marker": {
             "pattern": {
              "fillmode": "overlay",
              "size": 10,
              "solidity": 0.2
             }
            },
            "type": "histogram"
           }
          ],
          "scattergl": [
           {
            "marker": {
             "line": {
              "color": "#283442"
             }
            },
            "type": "scattergl"
           }
          ],
          "scatter3d": [
           {
            "type": "scatter3d",
            "line": {
             "colorbar": {
              "outlinewidth": 0,
              "ticks": ""
             }
            },
            "marker": {
             "colorbar": {
              "outlinewidth": 0,
              "ticks": ""
             }
            }
           }
          ],
          "scattermap": [
           {
            "type": "scattermap",
            "marker": {
             "colorbar": {
              "outlinewidth": 0,
              "ticks": ""
             }
            }
           }
          ],
          "scattermapbox": [
           {
            "type": "scattermapbox",
            "marker": {
             "colorbar": {
              "outlinewidth": 0,
              "ticks": ""
             }
            }
           }
          ],
          "scatterternary": [
           {
            "type": "scatterternary",
            "marker": {
             "colorbar": {
              "outlinewidth": 0,
              "ticks": ""
             }
            }
           }
          ],
          "scattercarpet": [
           {
            "type": "scattercarpet",
            "marker": {
             "colorbar": {
              "outlinewidth": 0,
              "ticks": ""
             }
            }
           }
          ],
          "carpet": [
           {
            "aaxis": {
             "endlinecolor": "#A2B1C6",
             "gridcolor": "#506784",
             "linecolor": "#506784",
             "minorgridcolor": "#506784",
             "startlinecolor": "#A2B1C6"
            },
            "baxis": {
             "endlinecolor": "#A2B1C6",
             "gridcolor": "#506784",
             "linecolor": "#506784",
             "minorgridcolor": "#506784",
             "startlinecolor": "#A2B1C6"
            },
            "type": "carpet"
           }
          ],
          "table": [
           {
            "cells": {
             "fill": {
              "color": "#506784"
             },
             "line": {
              "color": "rgb(17,17,17)"
             }
            },
            "header": {
             "fill": {
              "color": "#2a3f5f"
             },
             "line": {
              "color": "rgb(17,17,17)"
             }
            },
            "type": "table"
           }
          ],
          "barpolar": [
           {
            "marker": {
             "line": {
              "color": "rgb(17,17,17)",
              "width": 0.5
             },
             "pattern": {
              "fillmode": "overlay",
              "size": 10,
              "solidity": 0.2
             }
            },
            "type": "barpolar"
           }
          ],
          "pie": [
           {
            "automargin": true,
            "type": "pie"
           }
          ]
         },
         "layout": {
          "autotypenumbers": "strict",
          "colorway": [
           "#636efa",
           "#EF553B",
           "#00cc96",
           "#ab63fa",
           "#FFA15A",
           "#19d3f3",
           "#FF6692",
           "#B6E880",
           "#FF97FF",
           "#FECB52"
          ],
          "font": {
           "color": "#f2f5fa"
          },
          "hovermode": "closest",
          "hoverlabel": {
           "align": "left"
          },
          "paper_bgcolor": "rgb(17,17,17)",
          "plot_bgcolor": "rgb(17,17,17)",
          "polar": {
           "bgcolor": "rgb(17,17,17)",
           "angularaxis": {
            "gridcolor": "#506784",
            "linecolor": "#506784",
            "ticks": ""
           },
           "radialaxis": {
            "gridcolor": "#506784",
            "linecolor": "#506784",
            "ticks": ""
           }
          },
          "ternary": {
           "bgcolor": "rgb(17,17,17)",
           "aaxis": {
            "gridcolor": "#506784",
            "linecolor": "#506784",
            "ticks": ""
           },
           "baxis": {
            "gridcolor": "#506784",
            "linecolor": "#506784",
            "ticks": ""
           },
           "caxis": {
            "gridcolor": "#506784",
            "linecolor": "#506784",
            "ticks": ""
           }
          },
          "coloraxis": {
           "colorbar": {
            "outlinewidth": 0,
            "ticks": ""
           }
          },
          "colorscale": {
           "sequential": [
            [
             0.0,
             "#0d0887"
            ],
            [
             0.1111111111111111,
             "#46039f"
            ],
            [
             0.2222222222222222,
             "#7201a8"
            ],
            [
             0.3333333333333333,
             "#9c179e"
            ],
            [
             0.4444444444444444,
             "#bd3786"
            ],
            [
             0.5555555555555556,
             "#d8576b"
            ],
            [
             0.6666666666666666,
             "#ed7953"
            ],
            [
             0.7777777777777778,
             "#fb9f3a"
            ],
            [
             0.8888888888888888,
             "#fdca26"
            ],
            [
             1.0,
             "#f0f921"
            ]
           ],
           "sequentialminus": [
            [
             0.0,
             "#0d0887"
            ],
            [
             0.1111111111111111,
             "#46039f"
            ],
            [
             0.2222222222222222,
             "#7201a8"
            ],
            [
             0.3333333333333333,
             "#9c179e"
            ],
            [
             0.4444444444444444,
             "#bd3786"
            ],
            [
             0.5555555555555556,
             "#d8576b"
            ],
            [
             0.6666666666666666,
             "#ed7953"
            ],
            [
             0.7777777777777778,
             "#fb9f3a"
            ],
            [
             0.8888888888888888,
             "#fdca26"
            ],
            [
             1.0,
             "#f0f921"
            ]
           ],
           "diverging": [
            [
             0,
             "#8e0152"
            ],
            [
             0.1,
             "#c51b7d"
            ],
            [
             0.2,
             "#de77ae"
            ],
            [
             0.3,
             "#f1b6da"
            ],
            [
             0.4,
             "#fde0ef"
            ],
            [
             0.5,
             "#f7f7f7"
            ],
            [
             0.6,
             "#e6f5d0"
            ],
            [
             0.7,
             "#b8e186"
            ],
            [
             0.8,
             "#7fbc41"
            ],
            [
             0.9,
             "#4d9221"
            ],
            [
             1,
             "#276419"
            ]
           ]
          },
          "xaxis": {
           "gridcolor": "#283442",
           "linecolor": "#506784",
           "ticks": "",
           "title": {
            "standoff": 15
           },
           "zerolinecolor": "#283442",
           "automargin": true,
           "zerolinewidth": 2
          },
          "yaxis": {
           "gridcolor": "#283442",
           "linecolor": "#506784",
           "ticks": "",
           "title": {
            "standoff": 15
           },
           "zerolinecolor": "#283442",
           "automargin": true,
           "zerolinewidth": 2
          },
          "scene": {
           "xaxis": {
            "backgroundcolor": "rgb(17,17,17)",
            "gridcolor": "#506784",
            "linecolor": "#506784",
            "showbackground": true,
            "ticks": "",
            "zerolinecolor": "#C8D4E3",
            "gridwidth": 2
           },
           "yaxis": {
            "backgroundcolor": "rgb(17,17,17)",
            "gridcolor": "#506784",
            "linecolor": "#506784",
            "showbackground": true,
            "ticks": "",
            "zerolinecolor": "#C8D4E3",
            "gridwidth": 2
           },
           "zaxis": {
            "backgroundcolor": "rgb(17,17,17)",
            "gridcolor": "#506784",
            "linecolor": "#506784",
            "showbackground": true,
            "ticks": "",
            "zerolinecolor": "#C8D4E3",
            "gridwidth": 2
           }
          },
          "shapedefaults": {
           "line": {
            "color": "#f2f5fa"
           }
          },
          "annotationdefaults": {
           "arrowcolor": "#f2f5fa",
           "arrowhead": 0,
           "arrowwidth": 1
          },
          "geo": {
           "bgcolor": "rgb(17,17,17)",
           "landcolor": "rgb(17,17,17)",
           "subunitcolor": "#506784",
           "showland": true,
           "showlakes": true,
           "lakecolor": "rgb(17,17,17)"
          },
          "title": {
           "x": 0.05
          },
          "updatemenudefaults": {
           "bgcolor": "#506784",
           "borderwidth": 0
          },
          "sliderdefaults": {
           "bgcolor": "#C8D4E3",
           "borderwidth": 1,
           "bordercolor": "rgb(17,17,17)",
           "tickwidth": 0
          },
          "mapbox": {
           "style": "dark"
          }
         }
        },
        "xaxis": {
         "anchor": "y",
         "domain": [
          0.0,
          1.0
         ]
        },
        "yaxis": {
         "anchor": "x",
         "domain": [
          0.0,
          1.0
         ],
         "autorange": "reversed"
        },
        "coloraxis": {
         "colorscale": [
          [
           0.0,
           "rgb(5,48,97)"
          ],
          [
           0.1,
           "rgb(33,102,172)"
          ],
          [
           0.2,
           "rgb(67,147,195)"
          ],
          [
           0.3,
           "rgb(146,197,222)"
          ],
          [
           0.4,
           "rgb(209,229,240)"
          ],
          [
           0.5,
           "rgb(247,247,247)"
          ],
          [
           0.6,
           "rgb(253,219,199)"
          ],
          [
           0.7,
           "rgb(244,165,130)"
          ],
          [
           0.8,
           "rgb(214,96,77)"
          ],
          [
           0.9,
           "rgb(178,24,43)"
          ],
          [
           1.0,
           "rgb(103,0,31)"
          ]
         ]
        },
        "title": {
         "text": "Correlação de Pearson entre variáveis quantitativas",
         "x": 0.5
        }
       },
       "config": {
        "plotlyServerURL": "https://plot.ly"
       }
      }
     },
     "metadata": {},
     "output_type": "display_data"
    }
   ],
   "execution_count": 12
  },
  {
   "cell_type": "markdown",
   "id": "d54cb937",
   "metadata": {},
   "source": [
    "É possível observar que os valores da matriz estão próximos de zero, confirmando a **ausência de correlação linear significativa** entre as variáveis numéricas analisadas.\n",
    "\n"
   ]
  },
  {
   "cell_type": "markdown",
   "id": "d31cf231",
   "metadata": {},
   "source": [
    "### Teste ANOVA para variáveis Categóricas x Númericas\n",
    "\n",
    "Para investigar a existência de diferenças estatisticamente significativas entre os grupos, apliquei o teste ANOVA.\n",
    "Cada grupo corresponde aos valores da variável numérica para uma categoria específica da variável categórica."
   ]
  },
  {
   "cell_type": "code",
   "execution_count": 6,
   "id": "cbb82d34",
   "metadata": {
    "scrolled": true
   },
   "outputs": [
    {
     "name": "stdout",
     "output_type": "stream",
     "text": [
      "            Variável Categórica                    Variável Numérica  \\\n",
      "0                       Country        Financial Loss (in Million $)   \n",
      "1                       Country             Number of Affected Users   \n",
      "2                       Country  Incident Resolution Time (in Hours)   \n",
      "3                   Attack Type        Financial Loss (in Million $)   \n",
      "4                   Attack Type             Number of Affected Users   \n",
      "5                   Attack Type  Incident Resolution Time (in Hours)   \n",
      "6               Target Industry        Financial Loss (in Million $)   \n",
      "7               Target Industry             Number of Affected Users   \n",
      "8               Target Industry  Incident Resolution Time (in Hours)   \n",
      "9                 Attack Source        Financial Loss (in Million $)   \n",
      "10                Attack Source             Number of Affected Users   \n",
      "11                Attack Source  Incident Resolution Time (in Hours)   \n",
      "12  Security Vulnerability Type        Financial Loss (in Million $)   \n",
      "13  Security Vulnerability Type             Number of Affected Users   \n",
      "14  Security Vulnerability Type  Incident Resolution Time (in Hours)   \n",
      "15       Defense Mechanism Used        Financial Loss (in Million $)   \n",
      "16       Defense Mechanism Used             Number of Affected Users   \n",
      "17       Defense Mechanism Used  Incident Resolution Time (in Hours)   \n",
      "\n",
      "    Estatística F  p-valor          Conclusão  \n",
      "0          1.3652   0.1982  Não significativo  \n",
      "1          1.1228   0.3424  Não significativo  \n",
      "2          0.4615   0.9009  Não significativo  \n",
      "3          0.6252   0.6806  Não significativo  \n",
      "4          0.7744   0.5681  Não significativo  \n",
      "5          0.3957   0.8520  Não significativo  \n",
      "6          1.3784   0.2194  Não significativo  \n",
      "7          0.6909   0.6570  Não significativo  \n",
      "8          0.5868   0.7411  Não significativo  \n",
      "9          1.4173   0.2358  Não significativo  \n",
      "10         0.3409   0.7958  Não significativo  \n",
      "11         0.4053   0.7492  Não significativo  \n",
      "12         0.0865   0.9674  Não significativo  \n",
      "13         1.0032   0.3903  Não significativo  \n",
      "14         1.7317   0.1583  Não significativo  \n",
      "15         0.4000   0.8088  Não significativo  \n",
      "16         0.7567   0.5534  Não significativo  \n",
      "17         0.2691   0.8980  Não significativo  \n"
     ]
    }
   ],
   "source": [
    "# Listas de variáveis\n",
    "variaveis_categoricas = ['Country', 'Attack Type', 'Target Industry', 'Attack Source', 'Security Vulnerability Type', 'Defense Mechanism Used']\n",
    "variaveis_numericas = ['Financial Loss (in Million $)', 'Number of Affected Users', 'Incident Resolution Time (in Hours)']\n",
    "\n",
    "resultados = []\n",
    "\n",
    "# Fazendo o teste ANOVA\n",
    "for cat_var in variaveis_categoricas:\n",
    "    for num_var in variaveis_numericas:\n",
    "        grupos = []\n",
    "        \n",
    "        for categoria in df[cat_var].unique():\n",
    "            grupo = df[df[cat_var] == categoria][num_var]\n",
    "            grupos.append(grupo)\n",
    "        \n",
    "        stat, p = f_oneway(*grupos)\n",
    "        \n",
    "        significancia = 'Significativo' if p < 0.05 else 'Não significativo'\n",
    "        resultados.append({\n",
    "            'Variável Categórica': cat_var,\n",
    "            'Variável Numérica': num_var,\n",
    "            'Estatística F': round(stat, 4),\n",
    "            'p-valor': round(p, 4),\n",
    "            'Conclusão': significancia\n",
    "        })\n",
    "\n",
    "# Criando DataFrame com os resultados\n",
    "df_resultados = pd.DataFrame(resultados)\n",
    "\n",
    "print(df_resultados)"
   ]
  },
  {
   "cell_type": "markdown",
   "id": "dc00a7c3",
   "metadata": {},
   "source": [
    "Não foram encontradas diferenças estatisticamente significativas entre os grupos analisados (p-valores > 0.05 em todos os casos). Isso indica que, dentro do escopo dos dados disponíveis, **as variáveis categóricas não apresentam impacto relevante nas variáveis numéricas estudadas**."
   ]
  },
  {
   "cell_type": "markdown",
   "id": "5392863c",
   "metadata": {},
   "source": [
    "### Associação entre variáveis categóricas\n",
    "\n",
    "Para mensurar o grau de associação entre variáveis categóricas, utilizei o V de Cramér, que varia de 0 (sem associação) a 1 (associação perfeita). A correção para viés amostral foi aplicada para garantir maior precisão."
   ]
  },
  {
   "metadata": {
    "scrolled": false,
    "ExecuteTime": {
     "end_time": "2025-06-13T17:10:56.433408Z",
     "start_time": "2025-06-13T16:59:17.679418Z"
    }
   },
   "cell_type": "code",
   "source": [
    "# Filtrando apenas colunas categóricas\n",
    "cat_cols = df.select_dtypes(include='object').columns\n",
    "\n",
    "def cramers_v(x, y):\n",
    "    confusion_matrix = pd.crosstab(x, y)\n",
    "    chi2 = stats.chi2_contingency(confusion_matrix)[0]\n",
    "    n = confusion_matrix.sum().sum()\n",
    "    phi2 = chi2 / n\n",
    "    r, k = confusion_matrix.shape\n",
    "    phi2corr = max(0, phi2 - ((k-1)*(r-1))/(n-1))\n",
    "    rcorr = r - ((r-1)**2)/(n-1)\n",
    "    kcorr = k - ((k-1)**2)/(n-1)\n",
    "    return np.sqrt(phi2corr / min((kcorr-1), (rcorr-1)))\n",
    "\n",
    "# Criar uma matriz V de Cramér\n",
    "cramers_results = pd.DataFrame(index=cat_cols, columns=cat_cols)\n",
    "\n",
    "for col1 in cat_cols:\n",
    "    for col2 in cat_cols:\n",
    "        cramers_results.loc[col1, col2] = cramers_v(df[col1], df[col2])\n",
    "\n",
    "# Converter para float\n",
    "cramers_results = cramers_results.astype(float)\n",
    "\n",
    "# Plotar o heatmap\n",
    "fig = px.imshow(cramers_results,\n",
    "                text_auto=\".5f\",\n",
    "                aspect=\"auto\",\n",
    "                title='Correlação de Pearson entre variáveis quantitativas',\n",
    "                color_continuous_scale='RdBu_r')\n",
    "\n",
    "fig.update_layout(\n",
    "    title_x=0.5  # Centraliza o título\n",
    ")\n",
    "\n",
    "fig.show()"
   ],
   "id": "fa018a65",
   "outputs": [
    {
     "data": {
      "application/vnd.plotly.v1+json": {
       "data": [
        {
         "coloraxis": "coloraxis",
         "name": "0",
         "texttemplate": "%{z:.5f}",
         "x": [
          "Country",
          "Attack Type",
          "Target Industry",
          "Attack Source",
          "Security Vulnerability Type",
          "Defense Mechanism Used"
         ],
         "y": [
          "Country",
          "Attack Type",
          "Target Industry",
          "Attack Source",
          "Security Vulnerability Type",
          "Defense Mechanism Used"
         ],
         "z": {
          "dtype": "f8",
          "bdata": "AAAAAAAA8D8AAAAAAAAAAAAAAAAAAAAAAAAAAAAAAAAAAAAAAAAAAH1asrI+zYs/AAAAAAAAAAAAAAAAAADwPzZ5+dJXUZg/AAAAAAAAAAC1abRUkd6eP3Q65+82s4g/AAAAAAAAAAA0efnSV1GYPwAAAAAAAPA/62hJjMYBpj8AAAAAAAAAAB45J0JgcI8/AAAAAAAAAAAAAAAAAAAAAOtoSYzGAaY/AAAAAAAA8D8AAAAAAAAAAP6NaY5KEJI/AAAAAAAAAAC1abRUkd6ePwAAAAAAAAAAAAAAAAAAAAAAAAAAAADwPwAAAAAAAAAAfVqysj7Niz95OufvNrOIPxY5J0JgcI8//o1pjkoQkj8AAAAAAAAAAP///////+8/",
          "shape": "6, 6"
         },
         "type": "heatmap",
         "xaxis": "x",
         "yaxis": "y",
         "hovertemplate": "x: %{x}<br>y: %{y}<br>color: %{z}<extra></extra>"
        }
       ],
       "layout": {
        "template": {
         "data": {
          "histogram2dcontour": [
           {
            "type": "histogram2dcontour",
            "colorbar": {
             "outlinewidth": 0,
             "ticks": ""
            },
            "colorscale": [
             [
              0.0,
              "#0d0887"
             ],
             [
              0.1111111111111111,
              "#46039f"
             ],
             [
              0.2222222222222222,
              "#7201a8"
             ],
             [
              0.3333333333333333,
              "#9c179e"
             ],
             [
              0.4444444444444444,
              "#bd3786"
             ],
             [
              0.5555555555555556,
              "#d8576b"
             ],
             [
              0.6666666666666666,
              "#ed7953"
             ],
             [
              0.7777777777777778,
              "#fb9f3a"
             ],
             [
              0.8888888888888888,
              "#fdca26"
             ],
             [
              1.0,
              "#f0f921"
             ]
            ]
           }
          ],
          "choropleth": [
           {
            "type": "choropleth",
            "colorbar": {
             "outlinewidth": 0,
             "ticks": ""
            }
           }
          ],
          "histogram2d": [
           {
            "type": "histogram2d",
            "colorbar": {
             "outlinewidth": 0,
             "ticks": ""
            },
            "colorscale": [
             [
              0.0,
              "#0d0887"
             ],
             [
              0.1111111111111111,
              "#46039f"
             ],
             [
              0.2222222222222222,
              "#7201a8"
             ],
             [
              0.3333333333333333,
              "#9c179e"
             ],
             [
              0.4444444444444444,
              "#bd3786"
             ],
             [
              0.5555555555555556,
              "#d8576b"
             ],
             [
              0.6666666666666666,
              "#ed7953"
             ],
             [
              0.7777777777777778,
              "#fb9f3a"
             ],
             [
              0.8888888888888888,
              "#fdca26"
             ],
             [
              1.0,
              "#f0f921"
             ]
            ]
           }
          ],
          "heatmap": [
           {
            "type": "heatmap",
            "colorbar": {
             "outlinewidth": 0,
             "ticks": ""
            },
            "colorscale": [
             [
              0.0,
              "#0d0887"
             ],
             [
              0.1111111111111111,
              "#46039f"
             ],
             [
              0.2222222222222222,
              "#7201a8"
             ],
             [
              0.3333333333333333,
              "#9c179e"
             ],
             [
              0.4444444444444444,
              "#bd3786"
             ],
             [
              0.5555555555555556,
              "#d8576b"
             ],
             [
              0.6666666666666666,
              "#ed7953"
             ],
             [
              0.7777777777777778,
              "#fb9f3a"
             ],
             [
              0.8888888888888888,
              "#fdca26"
             ],
             [
              1.0,
              "#f0f921"
             ]
            ]
           }
          ],
          "contourcarpet": [
           {
            "type": "contourcarpet",
            "colorbar": {
             "outlinewidth": 0,
             "ticks": ""
            }
           }
          ],
          "contour": [
           {
            "type": "contour",
            "colorbar": {
             "outlinewidth": 0,
             "ticks": ""
            },
            "colorscale": [
             [
              0.0,
              "#0d0887"
             ],
             [
              0.1111111111111111,
              "#46039f"
             ],
             [
              0.2222222222222222,
              "#7201a8"
             ],
             [
              0.3333333333333333,
              "#9c179e"
             ],
             [
              0.4444444444444444,
              "#bd3786"
             ],
             [
              0.5555555555555556,
              "#d8576b"
             ],
             [
              0.6666666666666666,
              "#ed7953"
             ],
             [
              0.7777777777777778,
              "#fb9f3a"
             ],
             [
              0.8888888888888888,
              "#fdca26"
             ],
             [
              1.0,
              "#f0f921"
             ]
            ]
           }
          ],
          "surface": [
           {
            "type": "surface",
            "colorbar": {
             "outlinewidth": 0,
             "ticks": ""
            },
            "colorscale": [
             [
              0.0,
              "#0d0887"
             ],
             [
              0.1111111111111111,
              "#46039f"
             ],
             [
              0.2222222222222222,
              "#7201a8"
             ],
             [
              0.3333333333333333,
              "#9c179e"
             ],
             [
              0.4444444444444444,
              "#bd3786"
             ],
             [
              0.5555555555555556,
              "#d8576b"
             ],
             [
              0.6666666666666666,
              "#ed7953"
             ],
             [
              0.7777777777777778,
              "#fb9f3a"
             ],
             [
              0.8888888888888888,
              "#fdca26"
             ],
             [
              1.0,
              "#f0f921"
             ]
            ]
           }
          ],
          "mesh3d": [
           {
            "type": "mesh3d",
            "colorbar": {
             "outlinewidth": 0,
             "ticks": ""
            }
           }
          ],
          "scatter": [
           {
            "marker": {
             "line": {
              "color": "#283442"
             }
            },
            "type": "scatter"
           }
          ],
          "parcoords": [
           {
            "type": "parcoords",
            "line": {
             "colorbar": {
              "outlinewidth": 0,
              "ticks": ""
             }
            }
           }
          ],
          "scatterpolargl": [
           {
            "type": "scatterpolargl",
            "marker": {
             "colorbar": {
              "outlinewidth": 0,
              "ticks": ""
             }
            }
           }
          ],
          "bar": [
           {
            "error_x": {
             "color": "#f2f5fa"
            },
            "error_y": {
             "color": "#f2f5fa"
            },
            "marker": {
             "line": {
              "color": "rgb(17,17,17)",
              "width": 0.5
             },
             "pattern": {
              "fillmode": "overlay",
              "size": 10,
              "solidity": 0.2
             }
            },
            "type": "bar"
           }
          ],
          "scattergeo": [
           {
            "type": "scattergeo",
            "marker": {
             "colorbar": {
              "outlinewidth": 0,
              "ticks": ""
             }
            }
           }
          ],
          "scatterpolar": [
           {
            "type": "scatterpolar",
            "marker": {
             "colorbar": {
              "outlinewidth": 0,
              "ticks": ""
             }
            }
           }
          ],
          "histogram": [
           {
            "marker": {
             "pattern": {
              "fillmode": "overlay",
              "size": 10,
              "solidity": 0.2
             }
            },
            "type": "histogram"
           }
          ],
          "scattergl": [
           {
            "marker": {
             "line": {
              "color": "#283442"
             }
            },
            "type": "scattergl"
           }
          ],
          "scatter3d": [
           {
            "type": "scatter3d",
            "line": {
             "colorbar": {
              "outlinewidth": 0,
              "ticks": ""
             }
            },
            "marker": {
             "colorbar": {
              "outlinewidth": 0,
              "ticks": ""
             }
            }
           }
          ],
          "scattermap": [
           {
            "type": "scattermap",
            "marker": {
             "colorbar": {
              "outlinewidth": 0,
              "ticks": ""
             }
            }
           }
          ],
          "scattermapbox": [
           {
            "type": "scattermapbox",
            "marker": {
             "colorbar": {
              "outlinewidth": 0,
              "ticks": ""
             }
            }
           }
          ],
          "scatterternary": [
           {
            "type": "scatterternary",
            "marker": {
             "colorbar": {
              "outlinewidth": 0,
              "ticks": ""
             }
            }
           }
          ],
          "scattercarpet": [
           {
            "type": "scattercarpet",
            "marker": {
             "colorbar": {
              "outlinewidth": 0,
              "ticks": ""
             }
            }
           }
          ],
          "carpet": [
           {
            "aaxis": {
             "endlinecolor": "#A2B1C6",
             "gridcolor": "#506784",
             "linecolor": "#506784",
             "minorgridcolor": "#506784",
             "startlinecolor": "#A2B1C6"
            },
            "baxis": {
             "endlinecolor": "#A2B1C6",
             "gridcolor": "#506784",
             "linecolor": "#506784",
             "minorgridcolor": "#506784",
             "startlinecolor": "#A2B1C6"
            },
            "type": "carpet"
           }
          ],
          "table": [
           {
            "cells": {
             "fill": {
              "color": "#506784"
             },
             "line": {
              "color": "rgb(17,17,17)"
             }
            },
            "header": {
             "fill": {
              "color": "#2a3f5f"
             },
             "line": {
              "color": "rgb(17,17,17)"
             }
            },
            "type": "table"
           }
          ],
          "barpolar": [
           {
            "marker": {
             "line": {
              "color": "rgb(17,17,17)",
              "width": 0.5
             },
             "pattern": {
              "fillmode": "overlay",
              "size": 10,
              "solidity": 0.2
             }
            },
            "type": "barpolar"
           }
          ],
          "pie": [
           {
            "automargin": true,
            "type": "pie"
           }
          ]
         },
         "layout": {
          "autotypenumbers": "strict",
          "colorway": [
           "#636efa",
           "#EF553B",
           "#00cc96",
           "#ab63fa",
           "#FFA15A",
           "#19d3f3",
           "#FF6692",
           "#B6E880",
           "#FF97FF",
           "#FECB52"
          ],
          "font": {
           "color": "#f2f5fa"
          },
          "hovermode": "closest",
          "hoverlabel": {
           "align": "left"
          },
          "paper_bgcolor": "rgb(17,17,17)",
          "plot_bgcolor": "rgb(17,17,17)",
          "polar": {
           "bgcolor": "rgb(17,17,17)",
           "angularaxis": {
            "gridcolor": "#506784",
            "linecolor": "#506784",
            "ticks": ""
           },
           "radialaxis": {
            "gridcolor": "#506784",
            "linecolor": "#506784",
            "ticks": ""
           }
          },
          "ternary": {
           "bgcolor": "rgb(17,17,17)",
           "aaxis": {
            "gridcolor": "#506784",
            "linecolor": "#506784",
            "ticks": ""
           },
           "baxis": {
            "gridcolor": "#506784",
            "linecolor": "#506784",
            "ticks": ""
           },
           "caxis": {
            "gridcolor": "#506784",
            "linecolor": "#506784",
            "ticks": ""
           }
          },
          "coloraxis": {
           "colorbar": {
            "outlinewidth": 0,
            "ticks": ""
           }
          },
          "colorscale": {
           "sequential": [
            [
             0.0,
             "#0d0887"
            ],
            [
             0.1111111111111111,
             "#46039f"
            ],
            [
             0.2222222222222222,
             "#7201a8"
            ],
            [
             0.3333333333333333,
             "#9c179e"
            ],
            [
             0.4444444444444444,
             "#bd3786"
            ],
            [
             0.5555555555555556,
             "#d8576b"
            ],
            [
             0.6666666666666666,
             "#ed7953"
            ],
            [
             0.7777777777777778,
             "#fb9f3a"
            ],
            [
             0.8888888888888888,
             "#fdca26"
            ],
            [
             1.0,
             "#f0f921"
            ]
           ],
           "sequentialminus": [
            [
             0.0,
             "#0d0887"
            ],
            [
             0.1111111111111111,
             "#46039f"
            ],
            [
             0.2222222222222222,
             "#7201a8"
            ],
            [
             0.3333333333333333,
             "#9c179e"
            ],
            [
             0.4444444444444444,
             "#bd3786"
            ],
            [
             0.5555555555555556,
             "#d8576b"
            ],
            [
             0.6666666666666666,
             "#ed7953"
            ],
            [
             0.7777777777777778,
             "#fb9f3a"
            ],
            [
             0.8888888888888888,
             "#fdca26"
            ],
            [
             1.0,
             "#f0f921"
            ]
           ],
           "diverging": [
            [
             0,
             "#8e0152"
            ],
            [
             0.1,
             "#c51b7d"
            ],
            [
             0.2,
             "#de77ae"
            ],
            [
             0.3,
             "#f1b6da"
            ],
            [
             0.4,
             "#fde0ef"
            ],
            [
             0.5,
             "#f7f7f7"
            ],
            [
             0.6,
             "#e6f5d0"
            ],
            [
             0.7,
             "#b8e186"
            ],
            [
             0.8,
             "#7fbc41"
            ],
            [
             0.9,
             "#4d9221"
            ],
            [
             1,
             "#276419"
            ]
           ]
          },
          "xaxis": {
           "gridcolor": "#283442",
           "linecolor": "#506784",
           "ticks": "",
           "title": {
            "standoff": 15
           },
           "zerolinecolor": "#283442",
           "automargin": true,
           "zerolinewidth": 2
          },
          "yaxis": {
           "gridcolor": "#283442",
           "linecolor": "#506784",
           "ticks": "",
           "title": {
            "standoff": 15
           },
           "zerolinecolor": "#283442",
           "automargin": true,
           "zerolinewidth": 2
          },
          "scene": {
           "xaxis": {
            "backgroundcolor": "rgb(17,17,17)",
            "gridcolor": "#506784",
            "linecolor": "#506784",
            "showbackground": true,
            "ticks": "",
            "zerolinecolor": "#C8D4E3",
            "gridwidth": 2
           },
           "yaxis": {
            "backgroundcolor": "rgb(17,17,17)",
            "gridcolor": "#506784",
            "linecolor": "#506784",
            "showbackground": true,
            "ticks": "",
            "zerolinecolor": "#C8D4E3",
            "gridwidth": 2
           },
           "zaxis": {
            "backgroundcolor": "rgb(17,17,17)",
            "gridcolor": "#506784",
            "linecolor": "#506784",
            "showbackground": true,
            "ticks": "",
            "zerolinecolor": "#C8D4E3",
            "gridwidth": 2
           }
          },
          "shapedefaults": {
           "line": {
            "color": "#f2f5fa"
           }
          },
          "annotationdefaults": {
           "arrowcolor": "#f2f5fa",
           "arrowhead": 0,
           "arrowwidth": 1
          },
          "geo": {
           "bgcolor": "rgb(17,17,17)",
           "landcolor": "rgb(17,17,17)",
           "subunitcolor": "#506784",
           "showland": true,
           "showlakes": true,
           "lakecolor": "rgb(17,17,17)"
          },
          "title": {
           "x": 0.05
          },
          "updatemenudefaults": {
           "bgcolor": "#506784",
           "borderwidth": 0
          },
          "sliderdefaults": {
           "bgcolor": "#C8D4E3",
           "borderwidth": 1,
           "bordercolor": "rgb(17,17,17)",
           "tickwidth": 0
          },
          "mapbox": {
           "style": "dark"
          }
         }
        },
        "xaxis": {
         "anchor": "y",
         "domain": [
          0.0,
          1.0
         ]
        },
        "yaxis": {
         "anchor": "x",
         "domain": [
          0.0,
          1.0
         ],
         "autorange": "reversed"
        },
        "coloraxis": {
         "colorscale": [
          [
           0.0,
           "rgb(5,48,97)"
          ],
          [
           0.1,
           "rgb(33,102,172)"
          ],
          [
           0.2,
           "rgb(67,147,195)"
          ],
          [
           0.3,
           "rgb(146,197,222)"
          ],
          [
           0.4,
           "rgb(209,229,240)"
          ],
          [
           0.5,
           "rgb(247,247,247)"
          ],
          [
           0.6,
           "rgb(253,219,199)"
          ],
          [
           0.7,
           "rgb(244,165,130)"
          ],
          [
           0.8,
           "rgb(214,96,77)"
          ],
          [
           0.9,
           "rgb(178,24,43)"
          ],
          [
           1.0,
           "rgb(103,0,31)"
          ]
         ]
        },
        "title": {
         "text": "Correlação de Pearson entre variáveis quantitativas",
         "x": 0.5
        }
       },
       "config": {
        "plotlyServerURL": "https://plot.ly"
       }
      }
     },
     "metadata": {},
     "output_type": "display_data"
    }
   ],
   "execution_count": 3
  },
  {
   "cell_type": "markdown",
   "id": "232230bc",
   "metadata": {},
   "source": [
    "Os valores estão todos próximos de 0, o que indica que **não há forte correlação entre as variáveis categóricas** do conjunto de dados."
   ]
  },
  {
   "metadata": {},
   "cell_type": "markdown",
   "source": [
    "## Modelagem preditiva\n",
    "\n",
    "Apesar de o dataset conter diversas informações sobre ataques cibernéticos (tipo de ataque, setor afetado, tempo de resposta, etc.), ele **não apresenta os requisitos mínimos para construção de modelos preditivos eficazes**. Abaixo estão os principais motivos:\n",
    "\n",
    "### 1. Falta de Relações Estatísticas Relevantes\n",
    "\n",
    "- Foram aplicados testes como **ANOVA** e **V de Cramér**, que mostraram **baixa ou nenhuma associação estatística significativa** entre variáveis categóricas e variáveis numéricas.\n",
    "- Isso indica que **as variáveis explicativas não têm poder preditivo suficiente** sobre o impacto financeiro.\n",
    "\n",
    "---\n",
    "\n",
    "### 2. Modelos com Baixo Desempenho\n",
    "\n",
    "- Os modelos de **regressão** (Linear, Random Forest, XGBoost) apresentaram **erros altos**:\n",
    "  - `MAE > 24 milhões`\n",
    "  - `RMSE > 28 milhões`\n",
    "- Na abordagem de **classificação por faixas de impacto (Baixo, Médio, Alto)**:\n",
    "  - A **acurácia foi de apenas ~34%**, com forte confusão entre as classes.\n",
    "- Isso demonstra que os algoritmos **não conseguem identificar padrões úteis** nos dados disponíveis.\n",
    "\n",
    "---\n",
    "\n",
    "### 3. Ausência de Variáveis Críticas\n",
    "\n",
    "O impacto financeiro real de um ataque depende de diversos fatores que **não estão presentes na base**, como:\n",
    "\n",
    "- Tipo de dado vazado (dados pessoais, bancários, sensíveis)\n",
    "- Porte e receita da empresa\n",
    "- Penalidades legais e danos à reputação\n",
    "- Cobertura de seguro cibernético\n",
    "- Custo de mitigação e recuperação\n",
    "\n",
    "Essas informações são essenciais para estimar o impacto financeiro com precisão, mas **não fazem parte do conjunto de dados**.\n",
    "\n",
    "---\n",
    "\n",
    "### 4. Alto Grau de Aleatoriedade\n",
    "\n",
    "- Os gráficos de dispersão entre variáveis numéricas **não revelam padrões lineares ou não-lineares**.\n",
    "- Isso indica um **alto nível de ruído ou variabilidade aleatória**, tornando o problema imprevisível com os dados fornecidos.\n",
    "\n",
    "---\n",
    "\n",
    "### Considerações\n",
    "\n",
    "A base de dados é **adequada para análises descritivas e diagnósticas**. Por outro lado, **não é apropriada para modelagem preditiva de impacto financeiro**, seja por regressão ou classificação.\n"
   ],
   "id": "680839df9841a649"
  }
 ],
 "metadata": {
  "kernelspec": {
   "display_name": "Python 3 (ipykernel)",
   "language": "python",
   "name": "python3"
  },
  "language_info": {
   "codemirror_mode": {
    "name": "ipython",
    "version": 3
   },
   "file_extension": ".py",
   "mimetype": "text/x-python",
   "name": "python",
   "nbconvert_exporter": "python",
   "pygments_lexer": "ipython3",
   "version": "3.9.12"
  }
 },
 "nbformat": 4,
 "nbformat_minor": 5
}
